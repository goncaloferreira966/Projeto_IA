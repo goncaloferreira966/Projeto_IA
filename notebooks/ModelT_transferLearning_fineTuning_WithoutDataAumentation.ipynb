{
 "cells": [
  {
   "cell_type": "code",
   "execution_count": 1,
   "metadata": {},
   "outputs": [],
   "source": [
    "import os, shutil\n",
    "train_dir = '../train'\n",
    "validation_dir = '../validation'\n",
    "test_dir = '../test'"
   ]
  },
  {
   "cell_type": "code",
   "execution_count": 2,
   "metadata": {},
   "outputs": [
    {
     "name": "stderr",
     "output_type": "stream",
     "text": [
      "2024-06-18 22:29:12.478057: I tensorflow/core/platform/cpu_feature_guard.cc:182] This TensorFlow binary is optimized to use available CPU instructions in performance-critical operations.\n",
      "To enable the following instructions: AVX2 FMA, in other operations, rebuild TensorFlow with the appropriate compiler flags.\n"
     ]
    },
    {
     "name": "stdout",
     "output_type": "stream",
     "text": [
      "Found 40000 files belonging to 10 classes.\n",
      "Found 10000 files belonging to 10 classes.\n",
      "Found 10000 files belonging to 10 classes.\n"
     ]
    }
   ],
   "source": [
    "from keras.utils import image_dataset_from_directory\n",
    "\n",
    "IMG_SIZE = 150\n",
    "\n",
    "train_dataset = image_dataset_from_directory(train_dir,label_mode='categorical',image_size=(IMG_SIZE, IMG_SIZE))\n",
    "validation_dataset = image_dataset_from_directory(validation_dir,label_mode='categorical',image_size=(IMG_SIZE, IMG_SIZE))\n",
    "test_dataset = image_dataset_from_directory(test_dir,label_mode='categorical',image_size=(IMG_SIZE, IMG_SIZE))"
   ]
  },
  {
   "cell_type": "code",
   "execution_count": 4,
   "metadata": {},
   "outputs": [
    {
     "name": "stdout",
     "output_type": "stream",
     "text": [
      "Tamanho do subset 1 do conjunto de treinamento: 500\n",
      "Tamanho do subset 2 do conjunto de treinamento: 375\n",
      "Tamanho do subset 3 do conjunto de treinamento: 375\n",
      "Tamanho do subset 1 do conjunto de validação: 125\n",
      "Tamanho do subset 2 do conjunto de validação: 93\n",
      "Tamanho do subset 3 do conjunto de validação: 95\n"
     ]
    }
   ],
   "source": [
    "import tensorflow as tf\n",
    "\n",
    "# Função para calcular o tamanho do dataset\n",
    "def calculate_dataset_size(dataset):\n",
    "    dataset_size = tf.data.experimental.cardinality(dataset).numpy()\n",
    "    return dataset_size\n",
    "\n",
    "# Função para dividir o dataset em três subsets\n",
    "def split_dataset(dataset, fractions):\n",
    "    dataset_size = calculate_dataset_size(dataset)\n",
    "    split_sizes = [int(fraction * dataset_size) for fraction in fractions]\n",
    "    \n",
    "    dataset_1 = dataset.take(split_sizes[0])\n",
    "    dataset_2 = dataset.skip(split_sizes[0]).take(split_sizes[1])\n",
    "    dataset_3 = dataset.skip(split_sizes[0] + split_sizes[1])\n",
    "    \n",
    "    return dataset_1, dataset_2, dataset_3\n",
    "\n",
    "# Frações do dataset que você quer dividir (devem somar 1)\n",
    "fractions = [0.4, 0.3, 0.3]\n",
    "\n",
    "# Dividir o dataset de treinamento em três subsets\n",
    "train_dataset_1, train_dataset_2, train_dataset_3 = split_dataset(train_dataset, fractions)\n",
    "validation_dataset_1, validation_dataset_2, validation_dataset_3 = split_dataset(validation_dataset, fractions)\n",
    "\n",
    "# Calculando os tamanhos dos subsets de treinamento\n",
    "split_train_size_1 = calculate_dataset_size(train_dataset_1)\n",
    "split_train_size_2 = calculate_dataset_size(train_dataset_2)\n",
    "split_train_size_3 = calculate_dataset_size(train_dataset_3)\n",
    "\n",
    "# Calculando os tamanhos dos subsets de validação\n",
    "split_validation_size_1 = calculate_dataset_size(validation_dataset_1)\n",
    "split_validation_size_2 = calculate_dataset_size(validation_dataset_2)\n",
    "split_validation_size_3 = calculate_dataset_size(validation_dataset_3)\n",
    "\n",
    "# Mostrando os tamanhos dos subsets de treinamento\n",
    "print(f\"Tamanho do subset 1 do conjunto de treinamento: {split_train_size_1}\")\n",
    "print(f\"Tamanho do subset 2 do conjunto de treinamento: {split_train_size_2}\")\n",
    "print(f\"Tamanho do subset 3 do conjunto de treinamento: {split_train_size_3}\")\n",
    "\n",
    "# Mostrando os tamanhos dos subsets de validação\n",
    "print(f\"Tamanho do subset 1 do conjunto de validação: {split_validation_size_1}\")\n",
    "print(f\"Tamanho do subset 2 do conjunto de validação: {split_validation_size_2}\")\n",
    "print(f\"Tamanho do subset 3 do conjunto de validação: {split_validation_size_3}\")"
   ]
  },
  {
   "cell_type": "code",
   "execution_count": 5,
   "metadata": {},
   "outputs": [],
   "source": [
    "from keras.applications.vgg19 import VGG19\n",
    "\n",
    "conv_base = VGG19(weights=\"imagenet\", include_top=False) \n",
    "conv_base.trainable = True\n",
    "\n",
    "# Deixar todas as camadas, exceto as últimas quatro, não treináveis (congeladas)\n",
    "for layer in conv_base.layers[:-4]: \n",
    "    layer.trainable = False"
   ]
  },
  {
   "cell_type": "code",
   "execution_count": null,
   "metadata": {},
   "outputs": [],
   "source": [
    "from tensorflow import keras\n",
    "\n",
    "#Adicionar o modelo treinado com feature extraction\n",
    "base_model = keras.models.load_model('ModelT_transferLearning_featureExtraction_WithoutDataAumentation_OnlyClassification.h5')"
   ]
  },
  {
   "cell_type": "code",
   "execution_count": 85,
   "metadata": {},
   "outputs": [],
   "source": [
    "from tensorflow import keras\n",
    "from keras import layers\n",
    "\n",
    "inputs = keras.Input(shape=(IMG_SIZE, IMG_SIZE, 3))\n",
    "x = data_augmentation(inputs)\n",
    "x = keras.applications.vgg19.preprocess_input(x) \n",
    "x = conv_base(x)\n",
    "x = layers.Flatten()(x)\n",
    "x = layers.Dense(512)(x)\n",
    "x = layers.Dropout(0.5)(x)\n",
    "x = layers.Dense(256)(x)\n",
    "x = layers.Dropout(0.5)(x)\n",
    "outputs = layers.Dense(10, activation=\"softmax\")(x) \n",
    "model = keras.Model(inputs, outputs)"
   ]
  },
  {
   "cell_type": "code",
   "execution_count": 104,
   "metadata": {},
   "outputs": [],
   "source": [
    "#A partir deste bloco iremos treinar o modelo para os sub datasets\n",
    "import tensorflow as tf\n",
    "from tensorflow.keras.callbacks import EarlyStopping\n",
    "from tensorflow.keras import optimizers\n",
    "from tensorflow.keras.callbacks import ReduceLROnPlateau\n",
    "\n",
    "model.compile(loss='categorical_crossentropy', optimizer=optimizers.Adam(learning_rate=1e-4), metrics=['accuracy']) \n",
    "\n",
    "early_stopping = EarlyStopping(monitor='val_loss', patience=10, restore_best_weights=True)\n",
    "reduce_lr = ReduceLROnPlateau(monitor='val_loss', factor=0.2, patience=5, min_lr=1e-6, verbose=1)"
   ]
  },
  {
   "cell_type": "code",
   "execution_count": 105,
   "metadata": {},
   "outputs": [
    {
     "name": "stdout",
     "output_type": "stream",
     "text": [
      "Epoch 1/2\n"
     ]
    },
    {
     "name": "stdout",
     "output_type": "stream",
     "text": [
      "375/375 [==============================] - 1746s 5s/step - loss: 16.5633 - accuracy: 0.6869 - val_loss: 6.7114 - val_accuracy: 0.8377 - lr: 1.0000e-04\n",
      "Epoch 2/2\n",
      "375/375 [==============================] - 1747s 5s/step - loss: 12.4871 - accuracy: 0.7064 - val_loss: 5.7143 - val_accuracy: 0.8485 - lr: 1.0000e-04\n"
     ]
    }
   ],
   "source": [
    "#Subset 2\n",
    "history = model.fit(train_dataset_2, epochs=2, validation_data=validation_dataset_2, batch_size=64, callbacks=[early_stopping, reduce_lr])"
   ]
  },
  {
   "cell_type": "code",
   "execution_count": 106,
   "metadata": {},
   "outputs": [
    {
     "name": "stdout",
     "output_type": "stream",
     "text": [
      "Epoch 1/2\n",
      "500/500 [==============================] - 2336s 5s/step - loss: 10.9211 - accuracy: 0.7050 - val_loss: 4.8112 - val_accuracy: 0.8465 - lr: 1.0000e-04\n",
      "Epoch 2/2\n",
      "500/500 [==============================] - 2322s 5s/step - loss: 9.3581 - accuracy: 0.7101 - val_loss: 3.9973 - val_accuracy: 0.8540 - lr: 1.0000e-04\n"
     ]
    }
   ],
   "source": [
    "#Subset 1\n",
    "history = model.fit(train_dataset_1, epochs=2, validation_data=validation_dataset_1, batch_size=64, callbacks=[early_stopping, reduce_lr]) "
   ]
  },
  {
   "cell_type": "code",
   "execution_count": 107,
   "metadata": {},
   "outputs": [
    {
     "name": "stderr",
     "output_type": "stream",
     "text": [
      "/Library/Frameworks/Python.framework/Versions/3.11/lib/python3.11/site-packages/keras/src/engine/training.py:3103: UserWarning: You are saving your model as an HDF5 file via `model.save()`. This file format is considered legacy. We recommend using instead the native Keras format, e.g. `model.save('my_model.keras')`.\n",
      "  saving_api.save_model(\n"
     ]
    }
   ],
   "source": [
    "#model.save('ModelT_transferLearning_fineTuning_WithDataAumentation_OnlyClassification.h5')"
   ]
  }
 ],
 "metadata": {
  "colab": {
   "provenance": []
  },
  "kernelspec": {
   "display_name": "Python 3",
   "language": "python",
   "name": "python3"
  },
  "language_info": {
   "codemirror_mode": {
    "name": "ipython",
    "version": 3
   },
   "file_extension": ".py",
   "mimetype": "text/x-python",
   "name": "python",
   "nbconvert_exporter": "python",
   "pygments_lexer": "ipython3",
   "version": "3.11.4"
  }
 },
 "nbformat": 4,
 "nbformat_minor": 1
}
