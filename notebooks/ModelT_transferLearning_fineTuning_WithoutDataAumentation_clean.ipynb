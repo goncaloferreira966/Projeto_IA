{
 "cells": [
  {
   "cell_type": "code",
   "execution_count": null,
   "metadata": {},
   "outputs": [],
   "source": [
    "import os, shutil\n",
    "train_dir = '../train'\n",
    "validation_dir = '../validation'\n",
    "test_dir = '../test'"
   ]
  },
  {
   "cell_type": "code",
   "execution_count": null,
   "metadata": {},
   "outputs": [],
   "source": [
    "from keras.utils import image_dataset_from_directory\n",
    "\n",
    "IMG_SIZE = 150\n",
    "\n",
    "train_dataset = image_dataset_from_directory(train_dir,label_mode='categorical',image_size=(IMG_SIZE, IMG_SIZE))\n",
    "validation_dataset = image_dataset_from_directory(validation_dir,label_mode='categorical',image_size=(IMG_SIZE, IMG_SIZE))\n",
    "test_dataset = image_dataset_from_directory(test_dir,label_mode='categorical',image_size=(IMG_SIZE, IMG_SIZE))"
   ]
  },
  {
   "cell_type": "code",
   "execution_count": null,
   "metadata": {},
   "outputs": [],
   "source": [
    "import tensorflow as tf\n",
    "\n",
    "# Função para calcular o tamanho do dataset\n",
    "def calculate_dataset_size(dataset):\n",
    "    dataset_size = tf.data.experimental.cardinality(dataset).numpy()\n",
    "    return dataset_size\n",
    "\n",
    "# Função para dividir o dataset em três subsets\n",
    "def split_dataset(dataset, fractions):\n",
    "    dataset_size = calculate_dataset_size(dataset)\n",
    "    split_sizes = [int(fraction * dataset_size) for fraction in fractions]\n",
    "    \n",
    "    dataset_1 = dataset.take(split_sizes[0])\n",
    "    dataset_2 = dataset.skip(split_sizes[0]).take(split_sizes[1])\n",
    "    dataset_3 = dataset.skip(split_sizes[0] + split_sizes[1])\n",
    "    \n",
    "    return dataset_1, dataset_2, dataset_3\n",
    "\n",
    "# Frações do dataset que você quer dividir\n",
    "fractions = [0.4, 0.3, 0.3]\n",
    "\n",
    "# Dividir o dataset de treino e validacao em três subsets\n",
    "train_dataset_1, train_dataset_2, train_dataset_3 = split_dataset(train_dataset, fractions)\n",
    "validation_dataset_1, validation_dataset_2, validation_dataset_3 = split_dataset(validation_dataset, fractions)\n",
    "\n",
    "# Calculando os tamanhos dos subsets de treino\n",
    "split_train_size_1 = calculate_dataset_size(train_dataset_1)\n",
    "split_train_size_2 = calculate_dataset_size(train_dataset_2)\n",
    "split_train_size_3 = calculate_dataset_size(train_dataset_3)\n",
    "\n",
    "# Calculando os tamanhos dos subsets de validação\n",
    "split_validation_size_1 = calculate_dataset_size(validation_dataset_1)\n",
    "split_validation_size_2 = calculate_dataset_size(validation_dataset_2)\n",
    "split_validation_size_3 = calculate_dataset_size(validation_dataset_3)\n",
    "\n",
    "# Mostrar os tamanhos dos subsets de treino\n",
    "print(f\"Tamanho do subset 1 do conjunto de treino: {split_train_size_1}\")\n",
    "print(f\"Tamanho do subset 2 do conjunto de treino: {split_train_size_2}\")\n",
    "print(f\"Tamanho do subset 3 do conjunto de treino: {split_train_size_3}\")\n",
    "\n",
    "# Mostrar os tamanhos dos subsets de validação\n",
    "print(f\"Tamanho do subset 1 do conjunto de validação: {split_validation_size_1}\")\n",
    "print(f\"Tamanho do subset 2 do conjunto de validação: {split_validation_size_2}\")\n",
    "print(f\"Tamanho do subset 3 do conjunto de validação: {split_validation_size_3}\")"
   ]
  },
  {
   "cell_type": "code",
   "execution_count": null,
   "metadata": {},
   "outputs": [],
   "source": [
    "from keras.applications.vgg19 import VGG19\n",
    "\n",
    "conv_base = VGG19(weights=\"imagenet\", include_top=False, input_shape=(IMG_SIZE, IMG_SIZE, 3)) \n",
    "conv_base.trainable = True\n",
    "\n",
    "# Deixar todas as camadas, exceto as últimas quatro, não treináveis (congeladas)\n",
    "for layer in conv_base.layers[-5:]: \n",
    "    layer.trainable = False"
   ]
  },
  {
   "cell_type": "code",
   "execution_count": null,
   "metadata": {},
   "outputs": [],
   "source": [
    "from tensorflow import keras\n",
    "\n",
    "#Adicionar o modelo treinado com feature extraction\n",
    "base_model = keras.models.load_model('models/ModelT_transferLearning_featureExtraction_WithoutDataAumentation_OnlyClassification.h5')\n",
    "\n",
    "base_model.summary()"
   ]
  },
  {
   "cell_type": "code",
   "execution_count": null,
   "metadata": {},
   "outputs": [],
   "source": [
    "from tensorflow.keras.models import Model\n",
    "from tensorflow.keras.layers import Input\n",
    "\n",
    "#Criar uma camada de input com o mesmo shape da vgg19\n",
    "input_layer = Input(shape=(IMG_SIZE, IMG_SIZE, 3))\n",
    "\n",
    "#Passar a camada de input para o modelo base VGG19\n",
    "vgg19_output = conv_base(input_layer)\n",
    "\n",
    "#Passar a saída do VGG19 para do modelo salvo\n",
    "model_output = base_model(vgg19_output)\n",
    "\n",
    "#Criar o novo modelo combinado com a vgg19 e o modelo pré treinado\n",
    "model= Model(inputs=input_layer, outputs=model_output)\n",
    "\n",
    "# Mostrar os modelos combinados num só\n",
    "model.summary()"
   ]
  },
  {
   "cell_type": "code",
   "execution_count": null,
   "metadata": {},
   "outputs": [],
   "source": [
    "# Função para imprimir o estado das camadas de forma recursiva\n",
    "def print_layer_trainable_status(layer, indent=0):\n",
    "    print(f\"{' ' * indent}Layer: {layer.name}, Trainable: {layer.trainable}\")\n",
    "    if isinstance(layer, Model):\n",
    "        for sub_layer in layer.layers:\n",
    "            print_layer_trainable_status(sub_layer, indent + 2)\n",
    "\n",
    "print_layer_trainable_status(model)"
   ]
  },
  {
   "cell_type": "code",
   "execution_count": null,
   "metadata": {},
   "outputs": [],
   "source": [
    "#A partir deste bloco iremos treinar o modelo para os sub datasets\n",
    "import tensorflow as tf\n",
    "from tensorflow.keras.callbacks import EarlyStopping\n",
    "from tensorflow.keras import optimizers\n",
    "from tensorflow.keras.callbacks import ReduceLROnPlateau\n",
    "\n",
    "model.compile(loss='categorical_crossentropy',optimizer=optimizers.Adam(learning_rate=1e-5, weight_decay=1e-1),metrics=['accuracy'])\n",
    "\n",
    "early_stopping = EarlyStopping(monitor='val_loss', patience=3, restore_best_weights=True)\n",
    "\n",
    "reduce_lr = ReduceLROnPlateau(monitor='val_loss', factor=0.2, patience=1, min_lr=1e-7)"
   ]
  },
  {
   "cell_type": "code",
   "execution_count": null,
   "metadata": {},
   "outputs": [],
   "source": [
    "#Subset 2\n",
    "history = model.fit(train_dataset_2, epochs=7, validation_data=validation_dataset_2, batch_size=64, callbacks=[early_stopping, reduce_lr])"
   ]
  },
  {
   "cell_type": "code",
   "execution_count": null,
   "metadata": {},
   "outputs": [],
   "source": [
    "import matplotlib.pyplot as plt\n",
    "acc = history.history['accuracy']\n",
    "val_acc = history.history['val_accuracy']\n",
    "loss = history.history['loss']\n",
    "val_loss = history.history['val_loss']\n",
    "epochs = range(1, len(acc) + 1)\n",
    "plt.plot(epochs, acc, 'bo', label='Training acc') \n",
    "plt.plot(epochs, val_acc, 'b', label='Validation acc') \n",
    "plt.title('Training and validation accuracy') \n",
    "plt.legend()\n",
    "plt.figure()\n",
    "plt.plot(epochs, loss, 'bo', label='Training loss') \n",
    "plt.plot(epochs, val_loss, 'b', label='Validation loss') \n",
    "plt.title('Training and validation loss')\n",
    "plt.legend()\n",
    "plt.show()"
   ]
  },
  {
   "cell_type": "code",
   "execution_count": null,
   "metadata": {},
   "outputs": [],
   "source": [
    "#Subset 1\n",
    "model.compile(loss='categorical_crossentropy',optimizer=optimizers.Adam(learning_rate=1e-6, weight_decay=0.5),metrics=['accuracy'])\n",
    "\n",
    "early_stopping = EarlyStopping(monitor='val_loss', patience=3, restore_best_weights=True)\n",
    "\n",
    "reduce_lr = ReduceLROnPlateau(monitor='val_loss', factor=0.2, patience=1, min_lr=1e-7)\n",
    "\n",
    "history = model.fit(train_dataset_1, epochs=2, validation_data=validation_dataset_1, batch_size=64, callbacks=[early_stopping, reduce_lr]) "
   ]
  },
  {
   "cell_type": "code",
   "execution_count": null,
   "metadata": {},
   "outputs": [],
   "source": [
    "#Subset 3 -> Continuar com os mesmos valores\n",
    "model.compile(loss='categorical_crossentropy',optimizer=optimizers.Adam(learning_rate=1e-6, weight_decay=0.5),metrics=['accuracy'])\n",
    "\n",
    "early_stopping = EarlyStopping(monitor='val_loss', patience=3, restore_best_weights=True)\n",
    "\n",
    "reduce_lr = ReduceLROnPlateau(monitor='val_loss', factor=0.2, patience=1, min_lr=1e-7)\n",
    "\n",
    "history = model.fit(train_dataset_3, epochs=4, validation_data=validation_dataset_3, batch_size=64, callbacks=[early_stopping, reduce_lr]) "
   ]
  },
  {
   "cell_type": "code",
   "execution_count": null,
   "metadata": {},
   "outputs": [],
   "source": [
    "model.save('models/ModelT_transferLearning_fineTuning_WithoutDataAumentation.h5')"
   ]
  },
  {
   "cell_type": "code",
   "execution_count": null,
   "metadata": {},
   "outputs": [],
   "source": [
    "#Vamos colocar mais 5 camadas da vgg como treinaveis, ou seja o bloco 4 para ajustar os pesos\n",
    "for layer in conv_base.layers[-10:]:\n",
    "    layer.trainable = True\n",
    " \n",
    "# Função para imprimir para verificar se o bloco 4 ficou com Trainable=true\n",
    "def print_layer_trainable_status(model):\n",
    "    for layer in model.layers:\n",
    "        print(f\"Layer: {layer.name}, Trainable: {layer.trainable}\")\n",
    "\n",
    "print_layer_trainable_status(conv_base)"
   ]
  },
  {
   "cell_type": "code",
   "execution_count": null,
   "metadata": {},
   "outputs": [],
   "source": [
    "# Função para imprimir o estado das camadas de forma recursiva\n",
    "def print_layer_trainable_status(layer, indent=0):\n",
    "    print(f\"{' ' * indent}Layer: {layer.name}, Trainable: {layer.trainable}\")\n",
    "    if isinstance(layer, Model):\n",
    "        for sub_layer in layer.layers:\n",
    "            print_layer_trainable_status(sub_layer, indent + 2)\n",
    "\n",
    "print_layer_trainable_status(model)"
   ]
  },
  {
   "cell_type": "markdown",
   "metadata": {},
   "source": [
    "Continuar com os treinos para ver se o modelo tem melhorias"
   ]
  },
  {
   "cell_type": "code",
   "execution_count": null,
   "metadata": {},
   "outputs": [],
   "source": [
    "#Subset 3 -> Continuar com os mesmos valores\n",
    "model.compile(loss='categorical_crossentropy',optimizer=optimizers.Adam(learning_rate=1e-6, weight_decay=0.5),metrics=['accuracy'])\n",
    "\n",
    "early_stopping = EarlyStopping(monitor='val_loss', patience=3, restore_best_weights=True)\n",
    "\n",
    "reduce_lr = ReduceLROnPlateau(monitor='val_loss', factor=0.2, patience=1, min_lr=1e-7)\n",
    "\n",
    "history = model.fit(train_dataset_3, epochs=4, validation_data=validation_dataset_3, batch_size=64, callbacks=[early_stopping, reduce_lr]) "
   ]
  },
  {
   "cell_type": "code",
   "execution_count": null,
   "metadata": {},
   "outputs": [],
   "source": [
    "model.compile(loss='categorical_crossentropy',optimizer=optimizers.Adam(learning_rate=1e-5, weight_decay=0.5),metrics=['accuracy'])\n",
    "\n",
    "early_stopping = EarlyStopping(monitor='val_loss', patience=3, restore_best_weights=True)\n",
    "\n",
    "reduce_lr = ReduceLROnPlateau(monitor='val_loss', factor=0.2, patience=1, min_lr=1e-7)\n",
    "\n",
    "history = model.fit(train_dataset_1, epochs=5, validation_data=validation_dataset_1, batch_size=64, callbacks=[early_stopping, reduce_lr]) "
   ]
  },
  {
   "cell_type": "code",
   "execution_count": null,
   "metadata": {},
   "outputs": [],
   "source": [
    "import matplotlib.pyplot as plt\n",
    "\n",
    "acc = history.history['accuracy']\n",
    "val_acc = history.history['val_accuracy']\n",
    "loss = history.history['loss']\n",
    "val_loss = history.history['val_loss']\n",
    "epochs = range(1, len(acc) + 1)\n",
    "\n",
    "plt.figure(figsize=(14, 6))\n",
    "\n",
    "# Gráfico da Accuracya\n",
    "plt.subplot(1, 2, 1)\n",
    "plt.plot(epochs, acc, 'bo-', label='Accuracy no Treino')\n",
    "plt.plot(epochs, val_acc, 'b-', label='Accuracy na Validação')\n",
    "plt.title('Accuracy no Treino e Validação')\n",
    "plt.xlabel('Épocas')\n",
    "plt.ylabel('Accuracy')\n",
    "plt.legend()\n",
    "plt.grid(True) \n",
    "plt.xticks(range(1, len(acc) + 1, 2))  \n",
    "plt.yticks(fontsize=12) \n",
    "plt.tight_layout()\n",
    "\n",
    "# Gráfico da Loss\n",
    "plt.subplot(1, 2, 2)\n",
    "plt.plot(epochs, loss, 'bo-', label='Loss no Treino')\n",
    "plt.plot(epochs, val_loss, 'b-', label='Loss na Validação')\n",
    "plt.title('Loss no Treino e Validação')\n",
    "plt.xlabel('Épocas')\n",
    "plt.ylabel('Loss')\n",
    "plt.legend()\n",
    "plt.grid(True) \n",
    "plt.xticks(range(1, len(acc) + 1, 2))\n",
    "plt.yticks(fontsize=12) \n",
    "plt.tight_layout()\n",
    "\n",
    "# Mostrar os gráficos\n",
    "plt.show()\n"
   ]
  },
  {
   "cell_type": "code",
   "execution_count": null,
   "metadata": {},
   "outputs": [],
   "source": [
    "model.compile(loss='categorical_crossentropy',optimizer=optimizers.Adam(learning_rate=1e-6, weight_decay=0.5),metrics=['accuracy'])\n",
    "\n",
    "early_stopping = EarlyStopping(monitor='val_loss', patience=3, restore_best_weights=True)\n",
    "\n",
    "reduce_lr = ReduceLROnPlateau(monitor='val_loss', factor=0.2, patience=1, min_lr=1e-7)\n",
    "\n",
    "history = model.fit(train_dataset_1, epochs=2, validation_data=validation_dataset_1, batch_size=64, callbacks=[early_stopping, reduce_lr]) "
   ]
  },
  {
   "cell_type": "code",
   "execution_count": null,
   "metadata": {},
   "outputs": [],
   "source": [
    "model.save('models/ModelT_transferLearning_fineTuning_WithoutDataAumentation.h5')"
   ]
  },
  {
   "cell_type": "code",
   "execution_count": null,
   "metadata": {},
   "outputs": [],
   "source": [
    "#Vamos colocar mais 5 camadas da vgg como treinaveis, ou seja o bloco 3 para ajustar os pesos\n",
    "for layer in conv_base.layers[-15:]:\n",
    "    layer.trainable = True\n",
    " \n",
    "# Função para imprimir para verificar se o bloco 4 ficou com Trainable=true\n",
    "def print_layer_trainable_status(model):\n",
    "    for layer in model.layers:\n",
    "        print(f\"Layer: {layer.name}, Trainable: {layer.trainable}\")\n",
    "\n",
    "print_layer_trainable_status(conv_base)"
   ]
  },
  {
   "cell_type": "code",
   "execution_count": null,
   "metadata": {},
   "outputs": [],
   "source": [
    "# Função para imprimir o estado das camadas de forma recursiva\n",
    "def print_layer_trainable_status(layer, indent=0):\n",
    "    print(f\"{' ' * indent}Layer: {layer.name}, Trainable: {layer.trainable}\")\n",
    "    if isinstance(layer, Model):\n",
    "        for sub_layer in layer.layers:\n",
    "            print_layer_trainable_status(sub_layer, indent + 2)\n",
    "\n",
    "print_layer_trainable_status(model)"
   ]
  },
  {
   "cell_type": "code",
   "execution_count": null,
   "metadata": {},
   "outputs": [],
   "source": [
    "#Aumetar o weight_decay para tentar reduzir o overfitting\n",
    "model.compile(loss='categorical_crossentropy',optimizer=optimizers.Adam(learning_rate=1e-6, weight_decay=0.5),metrics=['accuracy'])\n",
    "\n",
    "early_stopping = EarlyStopping(monitor='val_loss', patience=3, restore_best_weights=True)\n",
    "\n",
    "reduce_lr = ReduceLROnPlateau(monitor='val_loss', factor=0.2, patience=1, min_lr=1e-7)\n",
    "\n",
    "history = model.fit(train_dataset_1, epochs=2, validation_data=validation_dataset_1, batch_size=32, callbacks=[early_stopping, reduce_lr]) "
   ]
  },
  {
   "cell_type": "code",
   "execution_count": null,
   "metadata": {},
   "outputs": [],
   "source": [
    "from tensorflow import keras\n",
    "\n",
    "loaded_model = keras.models.load_model('models/ModelT_transferLearning_fineTuning_WithoutDataAumentation.h5')\n",
    "\n",
    "val_loss, val_acc = loaded_model.evaluate(validation_dataset)\n",
    "print('val_acc:', val_acc)"
   ]
  },
  {
   "cell_type": "code",
   "execution_count": null,
   "metadata": {},
   "outputs": [],
   "source": [
    "val_loss, val_acc = loaded_model.evaluate(test_dataset) \n",
    "print('val_acc:', val_acc)"
   ]
  },
  {
   "cell_type": "code",
   "execution_count": null,
   "metadata": {},
   "outputs": [],
   "source": [
    "import tensorflow as tf\n",
    "from tensorflow import keras\n",
    "import numpy as np\n",
    "\n",
    "def extract_features(dataset, model):\n",
    "    features = []\n",
    "    for batch in dataset:\n",
    "        images, _ = batch\n",
    "        features_batch = model.predict(images)\n",
    "        features.append(features_batch)\n",
    "    return np.concatenate(features, axis=0)"
   ]
  },
  {
   "cell_type": "code",
   "execution_count": null,
   "metadata": {},
   "outputs": [],
   "source": [
    "loaded_model_for_getFeatures = keras.models.load_model('models/ModelT_transferLearning_fineTuning_WithoutDataAumentation.h5')"
   ]
  },
  {
   "cell_type": "code",
   "execution_count": null,
   "metadata": {},
   "outputs": [],
   "source": [
    "train_features = extract_features(train_dataset, loaded_model_for_getFeatures)\n",
    "validation_features = extract_features(validation_dataset, loaded_model_for_getFeatures)\n",
    "test_features = extract_features(test_dataset, loaded_model_for_getFeatures)"
   ]
  },
  {
   "cell_type": "code",
   "execution_count": null,
   "metadata": {},
   "outputs": [],
   "source": [
    "import numpy as np\n",
    "\n",
    "save_path = 'features_teste/ModelT_transferLearning_fineTuning_WithoutDataAumentation/'\n",
    "\n",
    "np.save(save_path + 'train_features_dataset.npy', train_features)\n",
    "\n",
    "np.save(save_path + 'val_features_dataset.npy', validation_features)\n",
    "\n",
    "np.save(save_path + 'test_features_dataset.npy', test_features)"
   ]
  }
 ],
 "metadata": {
  "colab": {
   "provenance": []
  },
  "kernelspec": {
   "display_name": "Python 3",
   "language": "python",
   "name": "python3"
  },
  "language_info": {
   "codemirror_mode": {
    "name": "ipython",
    "version": 3
   },
   "file_extension": ".py",
   "mimetype": "text/x-python",
   "name": "python",
   "nbconvert_exporter": "python",
   "pygments_lexer": "ipython3",
   "version": "3.11.4"
  }
 },
 "nbformat": 4,
 "nbformat_minor": 1
}
